{
 "cells": [
  {
   "cell_type": "code",
   "execution_count": 4,
   "metadata": {},
   "outputs": [
    {
     "name": "stdout",
     "output_type": "stream",
     "text": [
      "-0.022520953491108386\n",
      "-0.9508809539837215\n",
      "-0.22971200719554985\n",
      "0.4327122737393623\n",
      "-0.5983131386392544\n",
      "-0.38067770544489554\n",
      "0.08643556119036999\n",
      "-0.24823530724258802\n",
      "0.14729923310894444\n",
      "0.4959593456480005\n"
     ]
    }
   ],
   "source": [
    "import random \n",
    "import math\n",
    "\n",
    "\n",
    "for  i in range(10):\n",
    "    print(2*random.random()-1)"
   ]
  },
  {
   "cell_type": "code",
   "execution_count": null,
   "metadata": {
    "collapsed": true
   },
   "outputs": [],
   "source": []
  }
 ],
 "metadata": {
  "kernelspec": {
   "display_name": "Python 3",
   "language": "python",
   "name": "python3"
  },
  "language_info": {
   "codemirror_mode": {
    "name": "ipython",
    "version": 3
   },
   "file_extension": ".py",
   "mimetype": "text/x-python",
   "name": "python",
   "nbconvert_exporter": "python",
   "pygments_lexer": "ipython3",
   "version": "3.6.3"
  }
 },
 "nbformat": 4,
 "nbformat_minor": 2
}
