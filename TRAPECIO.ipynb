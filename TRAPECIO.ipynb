{
 "cells": [
  {
   "cell_type": "code",
   "execution_count": 6,
   "metadata": {},
   "outputs": [
    {
     "name": "stdout",
     "output_type": "stream",
     "text": [
      "0.8797520661078067\n"
     ]
    }
   ],
   "source": [
    "import math \n",
    "paso=0.1\n",
    "x1=0\n",
    "x2=paso\n",
    "suma=0\n",
    "while x2 <= 2:\n",
    "    fx2=  math.exp(-x2 * x2)\n",
    "    tria= (math.exp(-x1 * x1)- fx2)*paso/2\n",
    "    suma= suma + tria + fx2 * paso\n",
    "    x1= x2\n",
    "    x2 = x2 + paso\n",
    "print(suma)\n",
    "\n"
   ]
  },
  {
   "cell_type": "code",
   "execution_count": null,
   "metadata": {
    "collapsed": true
   },
   "outputs": [],
   "source": []
  }
 ],
 "metadata": {
  "kernelspec": {
   "display_name": "Python 3",
   "language": "python",
   "name": "python3"
  },
  "language_info": {
   "codemirror_mode": {
    "name": "ipython",
    "version": 3
   },
   "file_extension": ".py",
   "mimetype": "text/x-python",
   "name": "python",
   "nbconvert_exporter": "python",
   "pygments_lexer": "ipython3",
   "version": "3.6.3"
  }
 },
 "nbformat": 4,
 "nbformat_minor": 2
}
